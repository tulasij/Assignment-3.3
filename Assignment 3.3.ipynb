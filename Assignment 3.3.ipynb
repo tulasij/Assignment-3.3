{
 "cells": [
  {
   "cell_type": "code",
   "execution_count": 31,
   "metadata": {},
   "outputs": [
    {
     "name": "stdout",
     "output_type": "stream",
     "text": [
      "Enter your words:i am tulasi\n",
      "Longest word is: tulasi and length of longest word is: 6\n"
     ]
    }
   ],
   "source": [
    "def longestword():\n",
    "    word_list=input(\"Enter your words:\")\n",
    "    longest=0\n",
    "    for word in word_list.split(\" \"):\n",
    "        if(len(word)>longest):\n",
    "            longest=len(word)\n",
    "    print(\"Longest word is:\",word + \" and length of longest word is:\",longest)\n",
    "            \n",
    "longestword()"
   ]
  },
  {
   "cell_type": "code",
   "execution_count": null,
   "metadata": {},
   "outputs": [],
   "source": []
  },
  {
   "cell_type": "code",
   "execution_count": null,
   "metadata": {},
   "outputs": [],
   "source": []
  }
 ],
 "metadata": {
  "kernelspec": {
   "display_name": "Python 3",
   "language": "python",
   "name": "python3"
  },
  "language_info": {
   "codemirror_mode": {
    "name": "ipython",
    "version": 3
   },
   "file_extension": ".py",
   "mimetype": "text/x-python",
   "name": "python",
   "nbconvert_exporter": "python",
   "pygments_lexer": "ipython3",
   "version": "3.6.4"
  }
 },
 "nbformat": 4,
 "nbformat_minor": 2
}
